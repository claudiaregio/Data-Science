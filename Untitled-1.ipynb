{
 "cells": [
  {
   "cell_type": "code",
   "execution_count": 1,
   "metadata": {},
   "outputs": [
    {
     "name": "stdout",
     "output_type": "stream",
     "text": [
      "Titanic.py\n"
     ]
    }
   ],
   "source": [
    "destination = \"Titanic.ipynb\"\n",
    "source = \"Titanic.ipynb\"\n",
    "print(source)"
   ]
  },
  {
   "cell_type": "code",
   "execution_count": null,
   "metadata": {},
   "outputs": [],
   "source": [
    "import os, shutil\n",
    "\n",
    "def main(var):\n",
    "    print(var)\n",
    "    for i in range(1, 100):\n",
    "        print(i)"
   ]
  },
  {
   "cell_type": "code",
   "execution_count": null,
   "metadata": {},
   "outputs": [],
   "source": [
    "def test(var):\n",
    "    print(var)\n",
    "    for i in range(1, 10):\n",
    "        print('')"
   ]
  },
  {
   "cell_type": "code",
   "execution_count": null,
   "metadata": {},
   "outputs": [],
   "source": [
    "def f(var):\n",
    "    print(var)\n",
    "    for i in range(1, 100):\n",
    "        print(i)\n",
    "        dude"
   ]
  },
  {
   "cell_type": "code",
   "execution_count": null,
   "metadata": {},
   "outputs": [],
   "source": [
    "print(stuff)"
   ]
  }
 ],
 "metadata": {
  "interpreter": {
   "hash": "5e8eefcd3fe358d9c8f573088a953aaf26c823c16859eee39d47a8065f309cbc"
  },
  "kernelspec": {
   "display_name": "Python 3.8.11 64-bit ('condaEnvTest': conda)",
   "language": "python",
   "name": "python3"
  },
  "language_info": {
   "codemirror_mode": {
    "name": "ipython",
    "version": 3
   },
   "file_extension": ".py",
   "mimetype": "text/x-python",
   "name": "python",
   "nbconvert_exporter": "python",
   "pygments_lexer": "ipython3",
   "version": "3.8.11"
  },
  "orig_nbformat": 4
 },
 "nbformat": 4,
 "nbformat_minor": 2
}
